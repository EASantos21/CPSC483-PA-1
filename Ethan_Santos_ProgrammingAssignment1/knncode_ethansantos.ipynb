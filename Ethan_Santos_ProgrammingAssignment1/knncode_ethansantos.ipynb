{
 "cells": [
  {
   "cell_type": "code",
   "execution_count": 54,
   "metadata": {},
   "outputs": [],
   "source": [
    "import matplotlib.pyplot as plt\n",
    "import pandas as pd\n",
    "import numpy as np"
   ]
  },
  {
   "cell_type": "code",
   "execution_count": null,
   "metadata": {},
   "outputs": [],
   "source": [
    "# Importing the csv file\n",
    "df = pd.read_csv(r'HappinessData-1.csv')\n",
    "\n",
    "# Moving first column to the last\n",
    "df = df[['City Services Availability', 'Housing Cost', 'Quality of schools', 'Community trust in local police', 'Community Maintenance', 'Availability of Community Room ', 'Unhappy/Happy']]\n",
    "print(df.isnull().sum())\n",
    "print(df.shape)\n",
    "\n",
    "# Finding NAs and deleting the rows which contain them\n",
    "df = df.dropna()\n",
    "print(df.isnull().sum())\n",
    "print(df.shape)"
   ]
  },
  {
   "cell_type": "code",
   "execution_count": null,
   "metadata": {},
   "outputs": [],
   "source": [
    "# Test Splitting our data 80:20\n",
    "# Shuffling data\n",
    "df = df.sample(frac = 1)\n",
    "\n",
    "# Making size for the training set 80%\n",
    "train_set_size = int(0.8 * len(df))\n",
    "\n",
    "# Splitting data set\n",
    "train_set = df[:train_set_size]\n",
    "test_set = df[train_set_size:]\n",
    "\n",
    "print(train_set.shape)\n",
    "print(test_set.shape)\n",
    "print(test_set)"
   ]
  },
  {
   "cell_type": "code",
   "execution_count": null,
   "metadata": {},
   "outputs": [],
   "source": [
    "# Getting covariance matrix from train_set\n",
    "covMatrix = train_set.corr()\n",
    "pearsonMatrix = covMatrix.unstack()\n",
    "pearsonMatrix = pearsonMatrix.sort_values(kind=\"quicksort\")\n",
    "print(pearsonMatrix)\n"
   ]
  },
  {
   "cell_type": "code",
   "execution_count": 63,
   "metadata": {},
   "outputs": [
    {
     "name": "stdout",
     "output_type": "stream",
     "text": [
      "     City Services Availability  Availability of Community Room   \\\n",
      "128                           3                                4   \n",
      "100                           5                                5   \n",
      "16                            4                                4   \n",
      "129                           5                                5   \n",
      "62                            5                                5   \n",
      "..                          ...                              ...   \n",
      "34                            4                                5   \n",
      "120                           5                                5   \n",
      "108                           5                                5   \n",
      "96                            5                                4   \n",
      "22                            5                                4   \n",
      "\n",
      "     Unhappy/Happy  \n",
      "128              1  \n",
      "100              0  \n",
      "16               0  \n",
      "129              0  \n",
      "62               1  \n",
      "..             ...  \n",
      "34               0  \n",
      "120              1  \n",
      "108              0  \n",
      "96               0  \n",
      "22               1  \n",
      "\n",
      "[108 rows x 3 columns]\n"
     ]
    }
   ],
   "source": [
    "# Since we know that Availability of Community Room   \n",
    "# and City Services Availability have the highest correlation, we can drop \n",
    "# the rest of the variables\n",
    "train_set = train_set.drop(['Housing Cost', 'Quality of schools', 'Community trust in local police', 'Community Maintenance'], axis = 1)\n",
    "print(train_set)"
   ]
  }
 ],
 "metadata": {
  "interpreter": {
   "hash": "9b7e3a3ccc93dc65d20bed3ae0f1ada278d2ccc3eab70fdb2d4edf68a3a3bb43"
  },
  "kernelspec": {
   "display_name": "Python 3.7.0 64-bit",
   "language": "python",
   "name": "python3"
  },
  "language_info": {
   "codemirror_mode": {
    "name": "ipython",
    "version": 3
   },
   "file_extension": ".py",
   "mimetype": "text/x-python",
   "name": "python",
   "nbconvert_exporter": "python",
   "pygments_lexer": "ipython3",
   "version": "3.10.1"
  },
  "orig_nbformat": 4
 },
 "nbformat": 4,
 "nbformat_minor": 2
}
